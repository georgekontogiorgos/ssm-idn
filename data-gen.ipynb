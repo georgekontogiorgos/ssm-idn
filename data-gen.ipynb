{
 "cells": [
  {
   "cell_type": "markdown",
   "metadata": {},
   "source": [
    "Input at time k\n",
    "\n",
    "$$u(k)\\in \\mathbb{R}^m$$\n",
    "\n",
    "SSM equations\n",
    "\n",
    "\\begin{cases}\n",
    "x(k+1)&=Ax(k)+Bu(k) \\\\\n",
    "y(k)&=Cx(k)+Du(k)\n",
    "\\end{cases}\n",
    "\n",
    "Where $x(k)\\in \\mathbb{R}^n$, $A\\in \\mathbb{R}^{n\\times n}$, $B\\in \\mathbb{R}^{n\\times m}$, $C\\in \\mathbb{R}^{l\\times n}$ and $D\\in \\mathbb{R}^{l\\times m}$. "
   ]
  },
  {
   "cell_type": "code",
   "execution_count": 5,
   "metadata": {},
   "outputs": [
    {
     "name": "stderr",
     "output_type": "stream",
     "text": [
      "2020-12-02 12:19:23 INFO     Create system matrices.\n",
      "2020-12-02 12:19:23 INFO     Calculate matrices dimensions.\n",
      "2020-12-02 12:19:23 INFO     Perform state space matrices dimension tests.\n",
      "2020-12-02 12:19:23 ERROR    System matrix A must be square.\n"
     ]
    },
    {
     "ename": "Exception",
     "evalue": "System matrix A must be square.",
     "output_type": "error",
     "traceback": [
      "\u001b[1;31m---------------------------------------------------------------------------\u001b[0m",
      "\u001b[1;31mException\u001b[0m                                 Traceback (most recent call last)",
      "\u001b[1;32m<ipython-input-5-e855fc1f676b>\u001b[0m in \u001b[0;36m<module>\u001b[1;34m\u001b[0m\n\u001b[0;32m     44\u001b[0m \u001b[1;32mif\u001b[0m\u001b[1;33m(\u001b[0m\u001b[0mnumber_of_rows_of_A\u001b[0m \u001b[1;33m!=\u001b[0m \u001b[0mnumber_of_columns_of_A\u001b[0m\u001b[1;33m)\u001b[0m\u001b[1;33m:\u001b[0m\u001b[1;33m\u001b[0m\u001b[1;33m\u001b[0m\u001b[0m\n\u001b[0;32m     45\u001b[0m     \u001b[0mlogging\u001b[0m\u001b[1;33m.\u001b[0m\u001b[0merror\u001b[0m\u001b[1;33m(\u001b[0m\u001b[1;34m'System matrix A must be square.'\u001b[0m\u001b[1;33m)\u001b[0m\u001b[1;33m\u001b[0m\u001b[1;33m\u001b[0m\u001b[0m\n\u001b[1;32m---> 46\u001b[1;33m     \u001b[1;32mraise\u001b[0m \u001b[0mException\u001b[0m\u001b[1;33m(\u001b[0m\u001b[1;34m'System matrix A must be square.'\u001b[0m\u001b[1;33m)\u001b[0m\u001b[1;33m\u001b[0m\u001b[1;33m\u001b[0m\u001b[0m\n\u001b[0m\u001b[0;32m     47\u001b[0m \u001b[1;33m\u001b[0m\u001b[0m\n\u001b[0;32m     48\u001b[0m \u001b[1;32mif\u001b[0m\u001b[1;33m(\u001b[0m\u001b[0mnumber_of_rows_of_A\u001b[0m \u001b[1;33m!=\u001b[0m \u001b[0mnumber_of_rows_of_B\u001b[0m\u001b[1;33m)\u001b[0m\u001b[1;33m:\u001b[0m\u001b[1;33m\u001b[0m\u001b[1;33m\u001b[0m\u001b[0m\n",
      "\u001b[1;31mException\u001b[0m: System matrix A must be square."
     ]
    }
   ],
   "source": [
    "import numpy as np\n",
    "import logging\n",
    "\n",
    "# Configure log messages\n",
    "logging.basicConfig(\n",
    "        format='%(asctime)s %(levelname)-8s %(message)s',\n",
    "        level=logging.INFO,\n",
    "        datefmt='%Y-%m-%d %H:%M:%S')\n",
    "\n",
    "# Create system matrices\n",
    "logging.info('Create system matrices.')\n",
    "\n",
    "A=np.matrix([[1, 2, 3], \\\n",
    "             [2, 5, 9], \\\n",
    "             [2, 5, 9], \\\n",
    "             [3, 4, 5]])\n",
    "\n",
    "B=np.matrix([[5, 6],\\\n",
    "             [2, 8],\\\n",
    "             [7, 8]])\n",
    "\n",
    "C=np.matrix([[5, 6, 3],\\\n",
    "             [7, 1, 8],\\\n",
    "             [2, 0, 5],\\\n",
    "             [7, 8, 1]])\n",
    "\n",
    "D=np.matrix([[9, 10],\\\n",
    "             [2, 3],\\\n",
    "             [7, 1],\\\n",
    "             [11, 12]])\n",
    "\n",
    "# Get system matrices dimensions\n",
    "logging.info('Calculate matrices dimensions.')\n",
    "\n",
    "number_of_rows_of_A, number_of_columns_of_A = A.shape\n",
    "number_of_rows_of_B, number_of_columns_of_B = B.shape\n",
    "number_of_rows_of_C, number_of_columns_of_C = C.shape\n",
    "number_of_rows_of_D, number_of_columns_of_D = D.shape\n",
    "\n",
    "# State space matrices dimensions verification\n",
    "\n",
    "logging.info('Perform state space matrices dimension tests.')\n",
    "\n",
    "if(number_of_rows_of_A != number_of_columns_of_A):\n",
    "    logging.error('System matrix A must be square.')\n",
    "    raise Exception('System matrix A must be square.')\n",
    "\n",
    "if(number_of_rows_of_A != number_of_rows_of_B):\n",
    "    logging.error('System matrices A and B rows must be equal.')\n",
    "    raise Exception('System matrices A and B rows must be equal.')\n",
    "\n",
    "if(number_of_columns_of_A != number_of_columns_of_C):\n",
    "    logging.error('System matrices A and C columns must be equal.')\n",
    "    raise Exception('System matrices A and C columns must be equal.')  \n",
    "\n",
    "if(number_of_columns_of_B != number_of_columns_of_D):\n",
    "    logging.error('System matrices B and D columns must be equal.')\n",
    "    raise Exception('System matrices B and D columns must be equal.')  \n",
    "    \n",
    "if(number_of_rows_of_C != number_of_rows_of_D):\n",
    "    logging.error('System matrices C and D columns must be equal.')\n",
    "    raise Exception('System matrices C and D columns must be equal.') \n",
    "\n",
    "\n",
    "logging.info('Set matrices dimensions parameters.')\n",
    "\n",
    "l = number_of_rows_of_C\n",
    "m = number_of_columns_of_B\n",
    "n = number_of_rows_of_A\n",
    "\n",
    "logging.info('Input array size m: %d', m)\n",
    "logging.info('Output array size l: %d', l)\n",
    "logging.info('State array size n: %d', n)\n",
    "\n",
    "\n",
    "\n",
    "# Create input arrays u\n",
    "\n",
    "# Calculate the output array "
   ]
  },
  {
   "cell_type": "code",
   "execution_count": null,
   "metadata": {},
   "outputs": [],
   "source": []
  }
 ],
 "metadata": {
  "kernelspec": {
   "display_name": "Python 3",
   "language": "python",
   "name": "python3"
  },
  "language_info": {
   "codemirror_mode": {
    "name": "ipython",
    "version": 3
   },
   "file_extension": ".py",
   "mimetype": "text/x-python",
   "name": "python",
   "nbconvert_exporter": "python",
   "pygments_lexer": "ipython3",
   "version": "3.8.5"
  }
 },
 "nbformat": 4,
 "nbformat_minor": 4
}
